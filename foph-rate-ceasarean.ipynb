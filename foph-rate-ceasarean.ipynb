{
 "cells": [
  {
   "cell_type": "markdown",
   "id": "f4e215e4",
   "metadata": {},
   "source": [
    "## Quality indicators for Swiss acute hospitals – “établissement”\n",
    "\n",
    "Each of these CSV files actually contains hundreds of tables with two headers. A missing column header for comments needs to be added by hand.\n",
    "\n",
    "#### Indicateurs de qualité des hôpitaux suisses de soins aigus 2019 » selon l'établissement (CSV, de fr it)\n",
    "\n",
    "477 tables. Sample headers:\n",
    "\n",
    "* institution;indicator;taux observé 2014-2018;taux attendu 2014-2018;SMR 2014-2018;nombre de cas 2014-2018;taux observé 2019;taux attendu 2019;SMR 2019;nombre de cas 2019\n",
    "* institution;indicator;durée de séjours (jours) 2014-2018;;;nombre de cas 2014-2018;durée de séjours (jours) 2019;;;nombre de cas 2019\n",
    "\n",
    "#### Indicateurs de qualité des hôpitaux suisses de soins aigus 2019 » selon le site (CSV, de fr it)\n",
    "\n",
    "720 tables. Sample headers:\n",
    "* institution;indicator;;;;;taux observé 2019;taux attendu 2019;SMR 2019;nombre de cas 2019\n",
    "* institution;indicator;;;;;durée de séjours (jours) 2019;;;nombre de cas 2019\n",
    "\n",
    "[Téléchargement des fichiers CSV](https://www.bag.admin.ch/bag/fr/home/zahlen-und-statistiken/zahlen-fakten-zu-spitaelern/qualitaetsindikatoren-der-schweizer-akutspitaeler/qualitaetsindikatoren-dokumentation.html)\n",
    "\n",
    "[Téléchargement des chiffres clés](https://www.bag.admin.ch/bag/fr/home/zahlen-und-statistiken/zahlen-fakten-zu-spitaelern/kennzahlen-der-schweizer-spitaeler.html)\n",
    "\n",
    "[Documentation](https://www.bag.admin.ch/bag/fr/home/zahlen-und-statistiken/zahlen-fakten-zu-spitaelern/qualitaetsindikatoren-der-schweizer-akutspitaeler/qualitaetsindikatoren-wegleitung.html#anker2)"
   ]
  },
  {
   "cell_type": "code",
   "execution_count": 1,
   "id": "79cabf4c",
   "metadata": {},
   "outputs": [],
   "source": [
    "import pandas as pd\n",
    "from math import nan\n",
    "import re\n",
    "from io import StringIO\n",
    "import matplotlib.pyplot as plt\n",
    "%matplotlib inline"
   ]
  },
  {
   "cell_type": "code",
   "execution_count": 2,
   "id": "f950ac38",
   "metadata": {},
   "outputs": [
    {
     "data": {
      "text/plain": [
       "477"
      ]
     },
     "execution_count": 2,
     "metadata": {},
     "output_type": "execute_result"
    }
   ],
   "source": [
    "# Read each table separately\n",
    "\n",
    "frames = []\n",
    "counter = 0\n",
    "\n",
    "with open('data/2019.csv', 'r', encoding='windows-1252') as f:\n",
    "    current_frame = []\n",
    "    for line in f.readlines():\n",
    "        for search, replace in {'Hôpital Riviera­Chablais Vaud-Valais':'Hôpital Riviera-Chablais Vaud-Valais',\n",
    "                                'See­Spital': 'See-Spital'}.items():\n",
    "            line = line.replace(search, replace)\n",
    "        if line[1:11] in ['nstitution', 'nstituzion']:\n",
    "            if len(current_frame) > 0: # if the frame exists\n",
    "                frames.append(current_frame)\n",
    "            current_frame = [line.replace('\\n', ';comment\\n')]\n",
    "            counter += 1\n",
    "        else:\n",
    "            current_frame.append(line)\n",
    "counter"
   ]
  },
  {
   "cell_type": "code",
   "execution_count": 3,
   "id": "be6c7105",
   "metadata": {},
   "outputs": [
    {
     "name": "stdout",
     "output_type": "stream",
     "text": [
      "159\n"
     ]
    }
   ],
   "source": [
    "# Only keep tables with following headers:\n",
    "# SMR 2014-2018;nombre de cas 2014-2018;SMR 2019;**nombre de cas 2019**\n",
    "# SMR 2014-2018;Fallzahl 2014-2018;SMR 2019;**Fallzahl 2019**\n",
    "# SMR 2014-2018;numero di casi 2014-2018;SMR 2019;**numero di casi 2019**\n",
    "\n",
    "df_list = []\n",
    "indicator_list = []\n",
    "c = 0\n",
    "for frame in frames:\n",
    "    df = pd.read_csv(StringIO(\"\\n\".join(frame)), sep=';', on_bad_lines='warn')\n",
    "    if 'SMR 2019' in df.columns:\n",
    "        df_list.append(df)\n",
    "        comments_count = len(df[df['comment'] == df['comment']])\n",
    "        indicator = df.iloc[1][df.columns[1]]\n",
    "        df.rename(columns={\n",
    "            'Institution': 'institution',\n",
    "            'instituzione': 'institution'\n",
    "        }, inplace=True)\n",
    "        institution_name = df['institution'].iloc[0]\n",
    "        indicator_list.append(indicator)\n",
    "        # print(f'Frame {c}: {institution_name}, {indicator}')\n",
    "        # print(f'Frame {c}: indicator = {indicator}; {comments_count} comments found. Shape:', df.shape)\n",
    "        c += 1\n",
    "print(c)"
   ]
  },
  {
   "cell_type": "code",
   "execution_count": 4,
   "id": "ce24b720",
   "metadata": {},
   "outputs": [],
   "source": [
    "# Read BAG list of hospitals\n",
    "df_hosp = pd.read_excel('data/kzp19_data.xlsx', sheet_name='KZ2019_KZP19')"
   ]
  },
  {
   "cell_type": "code",
   "execution_count": 13,
   "id": "e772382c",
   "metadata": {},
   "outputs": [],
   "source": [
    "# Only keep categories 111 and 112 from the list\n",
    "#hosp_names = df_hosp[df_hosp['Typ'].isin(['K111', 'K112'])]['Inst'].tolist()\n",
    "hosp_names = df_hosp['Inst'].tolist()"
   ]
  },
  {
   "cell_type": "code",
   "execution_count": 14,
   "id": "a923f45f",
   "metadata": {},
   "outputs": [],
   "source": [
    "df_central = [_df for _df in df_list if _df.iloc[0]['institution'] in hosp_names]"
   ]
  },
  {
   "cell_type": "code",
   "execution_count": 15,
   "id": "64a4b8f2",
   "metadata": {},
   "outputs": [
    {
     "name": "stdout",
     "output_type": "stream",
     "text": [
      "institution|indicator|taux observé 2014-2018|taux attendu 2014-2018|SMR 2014-2018|nombre de cas 2014-2018|taux observé 2019|taux attendu 2019|SMR 2019|nombre de cas 2019|comment\n",
      "institution|Indikator|beobachtete Rate 2014-2018|erwartete Rate 2014-2018|SMR 2014-2018|Fallzahl 2014-2018|beobachtete Rate 2019|erwartete Rate 2019|SMR 2019|Fallzahl 2019|comment\n",
      "institution|indicatore|tasso osservato 2014-2018|tasso atteso 2014-2018|SMR 2014-2018|numero di casi 2014-2018|tasso osservato 2019|tasso atteso 2019|SMR 2019|numero di casi 2019|comment\n"
     ]
    }
   ],
   "source": [
    "# We check all frames have the same columns (in 3 languages)\n",
    "col_list = []\n",
    "for _df in df_central:\n",
    "    col_list.append(\"|\".join(list(_df.columns)))\n",
    "print(*set(col_list), sep='\\n')"
   ]
  },
  {
   "cell_type": "code",
   "execution_count": 16,
   "id": "53b31047",
   "metadata": {},
   "outputs": [],
   "source": [
    "# Use French locale for columns\n",
    "for _df in df_central:\n",
    "    _df.columns = ['institution',\n",
    " 'indicator',\n",
    " 'taux observé 2014-2018',\n",
    " 'taux attendu 2014-2018',\n",
    " 'SMR 2014-2018',\n",
    " 'nombre de cas 2014-2018',\n",
    " 'taux observé 2019',\n",
    " 'taux attendu 2019',\n",
    " 'SMR 2019',\n",
    " 'nombre de cas 2019',\n",
    " 'comment']"
   ]
  },
  {
   "cell_type": "markdown",
   "id": "64406c8c",
   "metadata": {},
   "source": [
    "## Export files for specific indicators"
   ]
  },
  {
   "cell_type": "code",
   "execution_count": 19,
   "id": "8a78f1c2",
   "metadata": {},
   "outputs": [],
   "source": [
    "cesarienne_list = []\n",
    "for _df in df_central:\n",
    "    line = _df[_df['indicator'].str.startswith('G.1.4.P')]\n",
    "    cesarienne_list.append(line.to_dict(orient='records')[0])\n",
    "dfc = pd.DataFrame(cesarienne_list)\n",
    "dfc.to_excel('cesarienne-2019.xlsx', index=False)"
   ]
  },
  {
   "cell_type": "code",
   "execution_count": 31,
   "id": "8275e000",
   "metadata": {},
   "outputs": [],
   "source": [
    "dfc[dfc['taux observé 2019'] != '*'].sort_values('taux observé 2019', ascending=False).to_excel('cesariennes_pourcent.xlsx', index=False)"
   ]
  },
  {
   "cell_type": "code",
   "execution_count": null,
   "id": "a4e31baf",
   "metadata": {},
   "outputs": [],
   "source": []
  }
 ],
 "metadata": {
  "kernelspec": {
   "display_name": "Python 3",
   "language": "python",
   "name": "python3"
  },
  "language_info": {
   "codemirror_mode": {
    "name": "ipython",
    "version": 3
   },
   "file_extension": ".py",
   "mimetype": "text/x-python",
   "name": "python",
   "nbconvert_exporter": "python",
   "pygments_lexer": "ipython3",
   "version": "3.9.4"
  }
 },
 "nbformat": 4,
 "nbformat_minor": 5
}
